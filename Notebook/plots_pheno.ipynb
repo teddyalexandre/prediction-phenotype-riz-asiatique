{
 "cells": [
  {
   "cell_type": "code",
   "execution_count": 2,
   "id": "69ca1953",
   "metadata": {},
   "outputs": [],
   "source": [
    "import pandas as pd\n",
    "import seaborn as sns\n",
    "from matplotlib import pyplot as plt\n",
    "sns.set() # Setting seaborn as default style even if use only matplotlib"
   ]
  },
  {
   "cell_type": "code",
   "execution_count": 3,
   "id": "c31739c8",
   "metadata": {},
   "outputs": [
    {
     "data": {
      "text/html": [
       "<div>\n",
       "<style scoped>\n",
       "    .dataframe tbody tr th:only-of-type {\n",
       "        vertical-align: middle;\n",
       "    }\n",
       "\n",
       "    .dataframe tbody tr th {\n",
       "        vertical-align: top;\n",
       "    }\n",
       "\n",
       "    .dataframe thead th {\n",
       "        text-align: right;\n",
       "    }\n",
       "</style>\n",
       "<table border=\"1\" class=\"dataframe\">\n",
       "  <thead>\n",
       "    <tr style=\"text-align: right;\">\n",
       "      <th></th>\n",
       "      <th>Unnamed: 0</th>\n",
       "      <th>HybID</th>\n",
       "      <th>NSFTVID</th>\n",
       "      <th>Flowering.time.at.Arkansas</th>\n",
       "      <th>Flowering.time.at.Faridpur</th>\n",
       "      <th>Flowering.time.at.Aberdeen</th>\n",
       "      <th>FT.ratio.of.Arkansas.Aberdeen</th>\n",
       "      <th>FT.ratio.of.Faridpur.Aberdeen</th>\n",
       "      <th>Culm.habit</th>\n",
       "      <th>Leaf.pubescence</th>\n",
       "      <th>...</th>\n",
       "      <th>Brown.rice.length.width.ratio</th>\n",
       "      <th>Seed.color</th>\n",
       "      <th>Pericarp.color</th>\n",
       "      <th>Straighthead.suseptability</th>\n",
       "      <th>Blast.resistance</th>\n",
       "      <th>Amylose.content</th>\n",
       "      <th>Alkali.spreading.value</th>\n",
       "      <th>Protein.content</th>\n",
       "      <th>Year07Flowering.time.at.Arkansas</th>\n",
       "      <th>Year06Flowering.time.at.Arkansas</th>\n",
       "    </tr>\n",
       "  </thead>\n",
       "  <tbody>\n",
       "    <tr>\n",
       "      <th>0</th>\n",
       "      <td>1</td>\n",
       "      <td>081215-A05</td>\n",
       "      <td>1</td>\n",
       "      <td>75.083333</td>\n",
       "      <td>64.0</td>\n",
       "      <td>81.0</td>\n",
       "      <td>0.926955</td>\n",
       "      <td>0.790123</td>\n",
       "      <td>4.0</td>\n",
       "      <td>1.0</td>\n",
       "      <td>...</td>\n",
       "      <td>1.861</td>\n",
       "      <td>0.0</td>\n",
       "      <td>0.0</td>\n",
       "      <td>4.833333</td>\n",
       "      <td>8.0</td>\n",
       "      <td>15.613333</td>\n",
       "      <td>6.083333</td>\n",
       "      <td>8.45</td>\n",
       "      <td>73.0</td>\n",
       "      <td>77.166667</td>\n",
       "    </tr>\n",
       "    <tr>\n",
       "      <th>1</th>\n",
       "      <td>2</td>\n",
       "      <td>081215-A06</td>\n",
       "      <td>3</td>\n",
       "      <td>89.500000</td>\n",
       "      <td>66.0</td>\n",
       "      <td>83.0</td>\n",
       "      <td>1.078313</td>\n",
       "      <td>0.795181</td>\n",
       "      <td>7.5</td>\n",
       "      <td>0.0</td>\n",
       "      <td>...</td>\n",
       "      <td>2.183</td>\n",
       "      <td>0.0</td>\n",
       "      <td>0.0</td>\n",
       "      <td>7.831667</td>\n",
       "      <td>4.0</td>\n",
       "      <td>23.260000</td>\n",
       "      <td>5.638889</td>\n",
       "      <td>9.20</td>\n",
       "      <td>88.0</td>\n",
       "      <td>91.000000</td>\n",
       "    </tr>\n",
       "    <tr>\n",
       "      <th>2</th>\n",
       "      <td>3</td>\n",
       "      <td>081215-A07</td>\n",
       "      <td>4</td>\n",
       "      <td>94.500000</td>\n",
       "      <td>67.0</td>\n",
       "      <td>93.0</td>\n",
       "      <td>1.016129</td>\n",
       "      <td>0.720430</td>\n",
       "      <td>6.0</td>\n",
       "      <td>1.0</td>\n",
       "      <td>...</td>\n",
       "      <td>2.481</td>\n",
       "      <td>0.0</td>\n",
       "      <td>0.0</td>\n",
       "      <td>NaN</td>\n",
       "      <td>3.0</td>\n",
       "      <td>23.120000</td>\n",
       "      <td>5.527778</td>\n",
       "      <td>8.00</td>\n",
       "      <td>105.5</td>\n",
       "      <td>83.500000</td>\n",
       "    </tr>\n",
       "    <tr>\n",
       "      <th>3</th>\n",
       "      <td>4</td>\n",
       "      <td>081215-A08</td>\n",
       "      <td>5</td>\n",
       "      <td>87.500000</td>\n",
       "      <td>70.0</td>\n",
       "      <td>108.0</td>\n",
       "      <td>0.810185</td>\n",
       "      <td>0.648148</td>\n",
       "      <td>3.5</td>\n",
       "      <td>1.0</td>\n",
       "      <td>...</td>\n",
       "      <td>3.468</td>\n",
       "      <td>0.0</td>\n",
       "      <td>0.0</td>\n",
       "      <td>8.333333</td>\n",
       "      <td>5.0</td>\n",
       "      <td>19.323333</td>\n",
       "      <td>6.027778</td>\n",
       "      <td>9.60</td>\n",
       "      <td>86.5</td>\n",
       "      <td>88.500000</td>\n",
       "    </tr>\n",
       "    <tr>\n",
       "      <th>4</th>\n",
       "      <td>5</td>\n",
       "      <td>090414-A09</td>\n",
       "      <td>6</td>\n",
       "      <td>89.083333</td>\n",
       "      <td>73.0</td>\n",
       "      <td>101.0</td>\n",
       "      <td>0.882013</td>\n",
       "      <td>0.722772</td>\n",
       "      <td>6.0</td>\n",
       "      <td>1.0</td>\n",
       "      <td>...</td>\n",
       "      <td>1.832</td>\n",
       "      <td>0.0</td>\n",
       "      <td>0.0</td>\n",
       "      <td>8.166667</td>\n",
       "      <td>3.0</td>\n",
       "      <td>23.240000</td>\n",
       "      <td>5.444444</td>\n",
       "      <td>8.50</td>\n",
       "      <td>85.5</td>\n",
       "      <td>92.666667</td>\n",
       "    </tr>\n",
       "  </tbody>\n",
       "</table>\n",
       "<p>5 rows × 39 columns</p>\n",
       "</div>"
      ],
      "text/plain": [
       "   Unnamed: 0       HybID  NSFTVID  Flowering.time.at.Arkansas  \\\n",
       "0           1  081215-A05        1                   75.083333   \n",
       "1           2  081215-A06        3                   89.500000   \n",
       "2           3  081215-A07        4                   94.500000   \n",
       "3           4  081215-A08        5                   87.500000   \n",
       "4           5  090414-A09        6                   89.083333   \n",
       "\n",
       "   Flowering.time.at.Faridpur  Flowering.time.at.Aberdeen  \\\n",
       "0                        64.0                        81.0   \n",
       "1                        66.0                        83.0   \n",
       "2                        67.0                        93.0   \n",
       "3                        70.0                       108.0   \n",
       "4                        73.0                       101.0   \n",
       "\n",
       "   FT.ratio.of.Arkansas.Aberdeen  FT.ratio.of.Faridpur.Aberdeen  Culm.habit  \\\n",
       "0                       0.926955                       0.790123         4.0   \n",
       "1                       1.078313                       0.795181         7.5   \n",
       "2                       1.016129                       0.720430         6.0   \n",
       "3                       0.810185                       0.648148         3.5   \n",
       "4                       0.882013                       0.722772         6.0   \n",
       "\n",
       "   Leaf.pubescence  ...  Brown.rice.length.width.ratio  Seed.color  \\\n",
       "0              1.0  ...                          1.861         0.0   \n",
       "1              0.0  ...                          2.183         0.0   \n",
       "2              1.0  ...                          2.481         0.0   \n",
       "3              1.0  ...                          3.468         0.0   \n",
       "4              1.0  ...                          1.832         0.0   \n",
       "\n",
       "   Pericarp.color  Straighthead.suseptability  Blast.resistance  \\\n",
       "0             0.0                    4.833333               8.0   \n",
       "1             0.0                    7.831667               4.0   \n",
       "2             0.0                         NaN               3.0   \n",
       "3             0.0                    8.333333               5.0   \n",
       "4             0.0                    8.166667               3.0   \n",
       "\n",
       "   Amylose.content  Alkali.spreading.value  Protein.content  \\\n",
       "0        15.613333                6.083333             8.45   \n",
       "1        23.260000                5.638889             9.20   \n",
       "2        23.120000                5.527778             8.00   \n",
       "3        19.323333                6.027778             9.60   \n",
       "4        23.240000                5.444444             8.50   \n",
       "\n",
       "   Year07Flowering.time.at.Arkansas  Year06Flowering.time.at.Arkansas  \n",
       "0                              73.0                         77.166667  \n",
       "1                              88.0                         91.000000  \n",
       "2                             105.5                         83.500000  \n",
       "3                              86.5                         88.500000  \n",
       "4                              85.5                         92.666667  \n",
       "\n",
       "[5 rows x 39 columns]"
      ]
     },
     "execution_count": 3,
     "metadata": {},
     "output_type": "execute_result"
    }
   ],
   "source": [
    "pheno_df = pd.read_csv('~/Téléchargements/pheno.csv')\n",
    "pheno_df.head()"
   ]
  },
  {
   "cell_type": "code",
   "execution_count": 28,
   "id": "c6138e9b",
   "metadata": {},
   "outputs": [
    {
     "data": {
      "text/plain": [
       "Index(['Unnamed: 0', 'HybID', 'NSFTVID', 'Flowering.time.at.Arkansas',\n",
       "       'Flowering.time.at.Faridpur', 'Flowering.time.at.Aberdeen',\n",
       "       'FT.ratio.of.Arkansas.Aberdeen', 'FT.ratio.of.Faridpur.Aberdeen',\n",
       "       'Culm.habit', 'Leaf.pubescence', 'Flag.leaf.length', 'Flag.leaf.width',\n",
       "       'Awn.presence', 'Panicle.number.per.plant', 'Plant.height',\n",
       "       'Panicle.length', 'Primary.panicle.branch.number',\n",
       "       'Seed.number.per.panicle', 'Florets.per.panicle', 'Panicle.fertility',\n",
       "       'Seed.length', 'Seed.width', 'Seed.volume', 'Seed.surface.area',\n",
       "       'Brown.rice.seed.length', 'Brown.rice.seed.width',\n",
       "       'Brown.rice.surface.area', 'Brown.rice.volume',\n",
       "       'Seed.length.width.ratio', 'Brown.rice.length.width.ratio',\n",
       "       'Seed.color', 'Pericarp.color', 'Straighthead.suseptability',\n",
       "       'Blast.resistance', 'Amylose.content', 'Alkali.spreading.value',\n",
       "       'Protein.content', 'Year07Flowering.time.at.Arkansas',\n",
       "       'Year06Flowering.time.at.Arkansas'],\n",
       "      dtype='object')"
      ]
     },
     "execution_count": 28,
     "metadata": {},
     "output_type": "execute_result"
    }
   ],
   "source": [
    "pheno_df.columns"
   ]
  },
  {
   "cell_type": "code",
   "execution_count": 20,
   "id": "f8cf956a",
   "metadata": {},
   "outputs": [
    {
     "data": {
      "text/plain": [
       "[Text(0.5, 1.0, 'Locality, spread and skewness groups of Amylose content in O.Sativa')]"
      ]
     },
     "execution_count": 20,
     "metadata": {},
     "output_type": "execute_result"
    },
    {
     "data": {
      "image/png": "[encoded data removed]",
      "text/plain": [
       "<Figure size 432x288 with 1 Axes>"
      ]
     },
     "metadata": {
      "needs_background": "light"
     },
     "output_type": "display_data"
    }
   ],
   "source": [
    "sns.boxplot(x=\"Amylose.content\",data=pheno_df,palette='rainbow',orient='h').set(title='Locality, spread and skewness groups of Amylose content in O.Sativa')"
   ]
  },
  {
   "cell_type": "code",
   "execution_count": 25,
   "id": "1ae3159c",
   "metadata": {},
   "outputs": [
    {
     "data": {
      "text/plain": [
       "[Text(0.5, 1.0, 'Locality, spread and skewness groups of Straighthead susceptability in O.Sativa')]"
      ]
     },
     "execution_count": 25,
     "metadata": {},
     "output_type": "execute_result"
    },
    {
     "data": {
      "image/png": "[encoded data removed]",
      "text/plain": [
       "<Figure size 432x288 with 1 Axes>"
      ]
     },
     "metadata": {
      "needs_background": "light"
     },
     "output_type": "display_data"
    }
   ],
   "source": [
    "sns.boxplot(x=\"Straighthead.suseptability\",data=pheno_df,palette='rainbow',orient='h').set(title='Locality, spread and skewness groups of Straighthead susceptability in O.Sativa')"
   ]
  },
  {
   "cell_type": "code",
   "execution_count": 29,
   "id": "8dd825ca",
   "metadata": {},
   "outputs": [
    {
     "data": {
      "text/plain": [
       "[Text(0.5, 1.0, 'Locality, spread and skewness groups of Seed number per panicle in O.Sativa')]"
      ]
     },
     "execution_count": 29,
     "metadata": {},
     "output_type": "execute_result"
    },
    {
     "data": {
      "image/png": "[encoded data removed]",
      "text/plain": [
       "<Figure size 432x288 with 1 Axes>"
      ]
     },
     "metadata": {
      "needs_background": "light"
     },
     "output_type": "display_data"
    }
   ],
   "source": [
    "sns.boxplot(x=\"Seed.number.per.panicle\",data=pheno_df,palette='rainbow',orient='h').set(title='Locality, spread and skewness groups of Seed number per panicle in O.Sativa')"
   ]
  },
  {
   "cell_type": "code",
   "execution_count": 10,
   "id": "86e74f12",
   "metadata": {},
   "outputs": [
    {
     "data": {
      "text/plain": [
       "<AxesSubplot:xlabel='Straighthead.suseptability'>"
      ]
     },
     "execution_count": 10,
     "metadata": {},
     "output_type": "execute_result"
    },
    {
     "data": {
      "image/png": "[encoded data removed]",
      "text/plain": [
       "<Figure size 1080x360 with 3 Axes>"
      ]
     },
     "metadata": {
      "needs_background": "light"
     },
     "output_type": "display_data"
    }
   ],
   "source": [
    "fig, axes = plt.subplots(1, 3, figsize=(15, 5), sharey=True)\n",
    "fig.suptitle('Locality, spread and skewness groups of the selected target variables')\n",
    "\n",
    "# Bulbasaur\n",
    "sns.boxplot(ax=axes[0],x=\"Seed.number.per.panicle\",data=pheno_df,palette='rainbow',orient='h')\n",
    "#axes[0].set_title(\"Seed number per panicle\")\n",
    "\n",
    "# Charmander\n",
    "sns.boxplot(ax=axes[1],x=\"Amylose.content\",data=pheno_df,palette='rainbow',orient='h')\n",
    "#axes[1].set_title(\"Amylose content\")\n",
    "\n",
    "# Squirtle\n",
    "sns.boxplot(ax=axes[2],x=\"Straighthead.suseptability\",data=pheno_df,palette='rainbow',orient='h')\n",
    "#axes[2].set_title(\"Straighthead susceptability\")"
   ]
  },
  {
   "cell_type": "code",
   "execution_count": null,
   "id": "c9b651d4",
   "metadata": {},
   "outputs": [],
   "source": []
  }
 ],
 "metadata": {
  "kernelspec": {
   "display_name": "Python 3 (ipykernel)",
   "language": "python",
   "name": "python3"
  },
  "language_info": {
   "codemirror_mode": {
    "name": "ipython",
    "version": 3
   },
   "file_extension": ".py",
   "mimetype": "text/x-python",
   "name": "python",
   "nbconvert_exporter": "python",
   "pygments_lexer": "ipython3",
   "version": "3.10.7"
  }
 },
 "nbformat": 4,
 "nbformat_minor": 5
}
