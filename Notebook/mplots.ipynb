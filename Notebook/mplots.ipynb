{
 "cells": [
  {
   "cell_type": "markdown",
   "id": "4b01b397",
   "metadata": {},
   "source": [
    "# Generate Manhattan Plots and LM plots for 1 SNP"
   ]
  },
  {
   "cell_type": "markdown",
   "id": "008bf924",
   "metadata": {},
   "source": [
    "## IMPORTS & FUNCTIONS"
   ]
  },
  {
   "cell_type": "code",
   "execution_count": 3,
   "id": "fb524f2b",
   "metadata": {},
   "outputs": [
    {
     "ename": "ModuleNotFoundError",
     "evalue": "No module named 'statsmodels'",
     "output_type": "error",
     "traceback": [
      "\u001b[0;31m---------------------------------------------------------------------------\u001b[0m",
      "\u001b[0;31mModuleNotFoundError\u001b[0m                       Traceback (most recent call last)",
      "Cell \u001b[0;32mIn [3], line 1\u001b[0m\n\u001b[0;32m----> 1\u001b[0m \u001b[38;5;28;01mimport\u001b[39;00m \u001b[38;5;21;01mstatsmodels\u001b[39;00m\u001b[38;5;21;01m.\u001b[39;00m\u001b[38;5;21;01mapi\u001b[39;00m \u001b[38;5;28;01mas\u001b[39;00m \u001b[38;5;21;01msm\u001b[39;00m\n\u001b[1;32m      2\u001b[0m \u001b[38;5;28;01mimport\u001b[39;00m \u001b[38;5;21;01mnumpy\u001b[39;00m \u001b[38;5;28;01mas\u001b[39;00m \u001b[38;5;21;01mnp\u001b[39;00m\n\u001b[1;32m      3\u001b[0m \u001b[38;5;28;01mimport\u001b[39;00m \u001b[38;5;21;01mpandas\u001b[39;00m \u001b[38;5;28;01mas\u001b[39;00m \u001b[38;5;21;01mpd\u001b[39;00m\n",
      "\u001b[0;31mModuleNotFoundError\u001b[0m: No module named 'statsmodels'"
     ]
    }
   ],
   "source": [
    "import statsmodels.api as sm\n",
    "import numpy as np\n",
    "import pandas as pd\n",
    "import matplotlib.pyplot as plt\n",
    "import seaborn as sns\n",
    "import random\n",
    "from tqdm import tqdm\n",
    "sns.set_theme(style=\"whitegrid\")\n",
    "pheno = pd.read_csv(\"../Ressources/pheno.csv\")\n",
    "pheno = pheno[[\"HybID\",\"NSFTVID\",\"Seed.number.per.panicle\",\"Amylose.content\",\"Straighthead.suseptability\"]]\n",
    "geno = pd.read_csv(\"../Ressources/geno.csv\")"
   ]
  },
  {
   "cell_type": "code",
   "execution_count": null,
   "id": "99734966",
   "metadata": {},
   "outputs": [],
   "source": [
    "def getModel(X,Y):\n",
    "    X2 = sm.add_constant(X)\n",
    "    mod = sm.OLS(Y,X2,missing=\"raise\")\n",
    "    fii = mod.fit()\n",
    "    return mod,fii\n",
    "\n",
    "def getPValues(fii):\n",
    "    return fii.summary2().tables[1][\"P>|t|\"]\n",
    "\n",
    "def plotManhattan(genes,pvalues,chromosomes,colname,title=\"test plot\",ymax=15):\n",
    "    \"\"\"\n",
    "    Generate and save manhattan plot\n",
    "    \n",
    "    genes: list of genes indexes\n",
    "    pvalues: list of the p-values corresponding to the genes\n",
    "    chromosomes: list of the chromosomes corresponding to the genes\n",
    "    title: title of the plot\n",
    "    savepath: path where the plot is saved\n",
    "    \"\"\"\n",
    "    df = pd.DataFrame(\n",
    "        {\n",
    "            'gene' : genes,\n",
    "            'pvalue' : pvalues,\n",
    "            'chromosome' : chromosomes\n",
    "        })\n",
    "    \n",
    "    # -log_10(pvalue)\n",
    "    nbchrom = len(df.chromosome.unique())\n",
    "    df['minuslog10pvalue'] = -np.log10(df.pvalue)\n",
    "    df.chromosome = df.chromosome.astype('category')\n",
    "    df.chromosome = df.chromosome.cat.set_categories(['ch-%i' % i for i in range(1,nbchrom+1)], ordered=True)\n",
    "    df = df.sort_values('chromosome')\n",
    "\n",
    "    # How to plot gene vs. -log10(pvalue) and colour it by chromosome?\n",
    "    df['ind'] = range(len(df))\n",
    "    df_grouped = df.groupby(('chromosome'))\n",
    "\n",
    "    # manhattan plot\n",
    "    fig = plt.figure(figsize=(14, 8)) # Set the figure size\n",
    "    \n",
    "    \n",
    "    ax = fig.add_subplot(111)\n",
    "    colors = ['gold','deepskyblue','hotpink', 'limegreen']\n",
    "    x_labels = []\n",
    "    x_labels_pos = []\n",
    "    for num, (name, group) in enumerate(df_grouped):\n",
    "        group.plot(kind='scatter', x='ind', y='minuslog10pvalue',color=colors[num % len(colors)], ax=ax)\n",
    "        x_labels.append(name)\n",
    "        x_labels_pos.append((group['ind'].iloc[-1] - (group['ind'].iloc[-1] - group['ind'].iloc[0])/2))\n",
    "    ax.set_xticks(x_labels_pos)\n",
    "    ax.set_xticklabels(x_labels)\n",
    "\n",
    "    # set axis limits\n",
    "    bonfcorrLimit = -np.log10(0.01/df.shape[0])\n",
    "    print(bonfcorrLimit)\n",
    "    ax.set_xlim([0, len(df)])\n",
    "    #ax.set_ylim([0, max(df[\"minuslog10pvalue\"].max(),bonfcorrLimit+0.5)])\n",
    "    ax.set_ylim([0, ymax])\n",
    "\n",
    "    # x axis label\n",
    "    ax.set_xlabel('Chromosome')\n",
    "    \n",
    "    # Significant genes separation with bonferroni correction\n",
    "    plt.axhline(y = bonfcorrLimit, color = 'r', linestyle = '-', label='separation with Bonferroni correction')\n",
    "\n",
    "    # show the graph\n",
    "    plt.title(title, y=-0.2)\n",
    "    plt.legend()\n",
    "    savepath=f\"manhattan_{colname.replace('.','_')}.png\"\n",
    "    plt.savefig('manhattan_test.png')\n",
    "    plt.show()\n",
    "\n",
    "def plotPhenoGeno(i):\n",
    "    Y = pd.Series(list(pheno[\"Seed.number.per.panicle\"]),name=\"Y\")\n",
    "    X = pd.Series(list(genoMat.loc[i]),name=\"X\")\n",
    "    df=pd.concat([X,Y],axis=1)\n",
    "    df.dropna(inplace=True)\n",
    "    mod,fii = getModel(df[\"X\"],df[\"Y\"])\n",
    "    pv = getPValues(fii)[\"X\"]\n",
    "    plt.scatter(X,Y)\n",
    "    print(fii.params)\n",
    "    intercept,slope = fii.params.get(\"const\",0),fii.params.get(\"X\")\n",
    "    plt.plot(X, X*slope + intercept, 'r')\n",
    "    print(slope,intercept,pv)\n",
    "    print(-np.log10(pv))\n",
    "\n",
    "def plotPhenoGeno2(i,colName):\n",
    "    Y = pd.Series(list(pheno[colName]),name=\"Y\")\n",
    "    X = pd.Series(list(genoMat.loc[i]),name=\"X\")\n",
    "    df=pd.concat([X,Y],axis=1)\n",
    "    df.dropna(inplace=True)\n",
    "\n",
    "    fig, axs = plt.subplots(ncols=2, figsize=(8,6))\n",
    "    # Draw a nested violinplot and split the violins for easier comparison\n",
    "    colorDict = {\n",
    "        0:\"deepskyblue\",\n",
    "        1:\"hotpink\",\n",
    "        2:\"limegreen\"\n",
    "    }\n",
    "    sns.violinplot(data=df, x=\"X\", y=\"Y\",\n",
    "                   split=True, inner=\"quart\", linewidth=2,ax=axs[0],palette=colorDict)\n",
    "    g = sns.regplot(\n",
    "    data=df, x=\"X\", y=\"Y\",\n",
    "    scatter=True, truncate=False, order=1,scatter_kws={\"color\":\"black\"},ax=axs[1]\n",
    "    )\n",
    "    axs[0].set_ylabel(colName.replace(\".\",\" \"))\n",
    "    axs[1].set_ylabel(\"\")\n",
    "    axs[0].set_xlabel(\"SNP value\")\n",
    "    axs[1].set_xlabel(\"SNP value\")\n",
    "    fig.suptitle(f'SNP n°{i+1} analysis with linear model', fontsize=16)\n",
    "    \n",
    "    # Calculate number of obs per group & median to position labels\n",
    "    medians = df.groupby(['X']).median().sort_index().values\n",
    "    nobs = df['X'].value_counts().sort_index().values\n",
    "    nobs = [str(x) for x in nobs.tolist()]\n",
    "    nobs = [\"n: \" + i for i in nobs]\n",
    "    \n",
    "    # Add text to the figure\n",
    "    pos = range(len(nobs))\n",
    "    for tick, label in zip(pos, axs[0].get_xticklabels()):\n",
    "       axs[0].text(pos[tick], medians[tick] + 0.03, nobs[tick],\n",
    "                horizontalalignment='center',\n",
    "                size='small',\n",
    "                color='w',\n",
    "                weight='semibold')\n",
    "    plt.show()\n",
    "\n",
    "def plotPhenoGeno3(i):\n",
    "    Y = pd.Series(list(pheno[\"Seed.number.per.panicle\"]),name=\"Y\")\n",
    "    X = pd.Series(list(genoMat.loc[i]),name=\"X\")\n",
    "    df=pd.concat([X,Y],axis=1)\n",
    "    df.dropna(inplace=True)\n",
    "    \n",
    "    g = sns.regplot(\n",
    "    data=df, x=\"X\", y=\"Y\",\n",
    "    scatter=False, truncate=False, order=1, color=\".2\",\n",
    "    )\n",
    "\n",
    "    #g.set_axis_labels(\"Genotype SNP\", \"Seed Number Per Panicle\")\n",
    "    g.set(xlabel='common xlabel', ylabel='common ylabel')\n",
    "    plt.show()\n",
    "\n",
    "def computePValues(phenoColumnName,genoMat):\n",
    "    pvalues = []\n",
    "    Y = pd.Series(list(pheno[phenoColumnName]),name=\"Y\")\n",
    "    for i in tqdm(range(genoMat.shape[0])):\n",
    "        X = pd.Series(list(genoMat.loc[i]),name=\"X\")\n",
    "        df=pd.concat([X,Y],axis=1)\n",
    "        df.dropna(inplace=True)\n",
    "        mod,fii = getModel(df[\"X\"],df[\"Y\"])\n",
    "        pvalues.append(getPValues(fii)[\"X\"])\n",
    "    return pvalues\n",
    "\n",
    "def saveMdf(genes,pvalues,chromosomes,name=\"manhattanDF\"):\n",
    "    df = pd.DataFrame(\n",
    "        {\n",
    "            'gene' : genes,\n",
    "            'pvalue' : pvalues,\n",
    "            'chromosome' : chromosomes\n",
    "        })\n",
    "    df.to_csv(f\"{name}.csv\")\n",
    "    return df\n",
    "\n",
    "def saveAllManhattanDf(pheno,geno):\n",
    "    genes = geno[\"marker\"]\n",
    "    chromosomes = pd.Series([f\"ch-{i}\" for i in geno[\"chrom\"]])\n",
    "    genoMat = geno[[str(i) for i in range(1,414)]]\n",
    "    res = {}\n",
    "    for col in pheno.columns[2:]:\n",
    "        pvalues = computePValues(col,genoMat)\n",
    "        res[col] = saveMdf(genes,pvalues,chromosomes,name=f\"manhattan_{col.replace('.','_')}\")\n",
    "    return res\n",
    "\n",
    "def getBestPValues(pvalues,maxpvalue,minpvalue):\n",
    "    m = []\n",
    "    for i in range(len(pvalues)):\n",
    "        mtmp = -np.log10(pvalues[i])\n",
    "        if mtmp>minpvalue and mtmp<maxpvalue:\n",
    "            m.append((mtmp,i))\n",
    "    m = sorted(m, key = lambda x: x[0],reverse=True)\n",
    "    return m"
   ]
  },
  {
   "cell_type": "markdown",
   "id": "c38d972f",
   "metadata": {},
   "source": [
    "## Available DATA"
   ]
  },
  {
   "cell_type": "code",
   "execution_count": null,
   "id": "bab30794",
   "metadata": {},
   "outputs": [],
   "source": [
    "pheno"
   ]
  },
  {
   "cell_type": "code",
   "execution_count": null,
   "id": "7c73ea46",
   "metadata": {},
   "outputs": [],
   "source": [
    "geno"
   ]
  },
  {
   "cell_type": "markdown",
   "id": "2b9a6886",
   "metadata": {},
   "source": [
    "### Répartition des valeurs du dataset"
   ]
  },
  {
   "cell_type": "code",
   "execution_count": null,
   "id": "6e902f5d",
   "metadata": {},
   "outputs": [],
   "source": [
    "names = [\"homozygotes dominants\",\"hétérozygotes\",\"homozygotes récessifs\"]\n",
    "all = genoMat.shape[0]*genoMat.shape[1]\n",
    "for n in [0,1,2]:\n",
    "    x = np.count_nonzero(genoMat.values==n)\n",
    "    print(f\"Dans genoMat il y a {x} allèles {names[n]} ({round(x*100/all,2)}%)\")\n",
    "\n",
    "x = np.count_nonzero(genoMat.isnull().values==1)\n",
    "print(f\"Dans genoMat il y a {x} allèles non définis ({round(x*100/all,2)}%)\")"
   ]
  },
  {
   "cell_type": "markdown",
   "id": "804b5c06",
   "metadata": {},
   "source": [
    "## Generate and save p-values for each characteristic"
   ]
  },
  {
   "cell_type": "code",
   "execution_count": null,
   "id": "a6f19f12",
   "metadata": {
    "scrolled": true
   },
   "outputs": [],
   "source": [
    "#saveAllManhattanDf(pheno,geno)"
   ]
  },
  {
   "cell_type": "markdown",
   "id": "e5fb3a66",
   "metadata": {},
   "source": [
    "# Generate and save Manhattan plots"
   ]
  },
  {
   "cell_type": "code",
   "execution_count": null,
   "id": "ea14077d",
   "metadata": {},
   "outputs": [],
   "source": [
    "#ymax = [14,70,35] #max values for the plots\n",
    "cols = pheno.columns[2:]"
   ]
  },
  {
   "cell_type": "markdown",
   "id": "894d46b8",
   "metadata": {},
   "source": [
    "## Seed number per panicle"
   ]
  },
  {
   "cell_type": "markdown",
   "id": "08c446ee",
   "metadata": {},
   "source": [
    "- ne pas oublier de mentionner qu'il y a des SNP qui n'ont que des 0 ou des 2\n",
    "- ne pas oublier de mentionner qu'il n'y a pas beaucoup d'allèles hétérozygotes dans genoMat (0.04%)"
   ]
  },
  {
   "cell_type": "code",
   "execution_count": null,
   "id": "5e8d1efa",
   "metadata": {},
   "outputs": [],
   "source": [
    "df1 = pd.read_csv(f\"manhattan_{cols[0].replace('.','_')}.csv\")\n",
    "df1.head()"
   ]
  },
  {
   "cell_type": "code",
   "execution_count": null,
   "id": "7b29f6c1",
   "metadata": {},
   "outputs": [],
   "source": [
    "plotManhattan(\n",
    "        df1['gene'],\n",
    "        df1['pvalue'],\n",
    "        df1['chromosome'],\n",
    "        title=f\"Manhattan plot for {cols[0]}\",\n",
    "        colname=cols[0],\n",
    "        ymax=15)"
   ]
  },
  {
   "cell_type": "code",
   "execution_count": null,
   "id": "8be22d7a",
   "metadata": {},
   "outputs": [],
   "source": [
    "bestpvalues = getBestPValues(df1[\"pvalue\"],15,10)[:5]\n",
    "for pv, idx in bestpvalues:\n",
    "    plotPhenoGeno2(idx,cols[0])"
   ]
  },
  {
   "cell_type": "markdown",
   "id": "1f235a2c",
   "metadata": {},
   "source": [
    "### Les 5 meilleures SNP pour le seed number"
   ]
  },
  {
   "cell_type": "code",
   "execution_count": null,
   "id": "66dce1ca",
   "metadata": {},
   "outputs": [],
   "source": [
    "print([i[1] for i in bestpvalues])"
   ]
  },
  {
   "cell_type": "markdown",
   "id": "7818e287",
   "metadata": {},
   "source": [
    "## Amylose content"
   ]
  },
  {
   "cell_type": "code",
   "execution_count": null,
   "id": "6b5c9978",
   "metadata": {},
   "outputs": [],
   "source": [
    "df2 = pd.read_csv(f\"manhattan_{cols[1].replace('.','_')}.csv\")\n",
    "df2.head()"
   ]
  },
  {
   "cell_type": "code",
   "execution_count": 1,
   "id": "945068a7",
   "metadata": {},
   "outputs": [
    {
     "ename": "NameError",
     "evalue": "name 'plotManhattan' is not defined",
     "output_type": "error",
     "traceback": [
      "\u001b[0;31m---------------------------------------------------------------------------\u001b[0m",
      "\u001b[0;31mNameError\u001b[0m                                 Traceback (most recent call last)",
      "Cell \u001b[0;32mIn [1], line 1\u001b[0m\n\u001b[0;32m----> 1\u001b[0m \u001b[43mplotManhattan\u001b[49m(\n\u001b[1;32m      2\u001b[0m         df2[\u001b[38;5;124m'\u001b[39m\u001b[38;5;124mgene\u001b[39m\u001b[38;5;124m'\u001b[39m],\n\u001b[1;32m      3\u001b[0m         df2[\u001b[38;5;124m'\u001b[39m\u001b[38;5;124mpvalue\u001b[39m\u001b[38;5;124m'\u001b[39m],\n\u001b[1;32m      4\u001b[0m         df2[\u001b[38;5;124m'\u001b[39m\u001b[38;5;124mchromosome\u001b[39m\u001b[38;5;124m'\u001b[39m],\n\u001b[1;32m      5\u001b[0m         title\u001b[38;5;241m=\u001b[39m\u001b[38;5;124mf\u001b[39m\u001b[38;5;124m\"\u001b[39m\u001b[38;5;124mManhattan plot for \u001b[39m\u001b[38;5;132;01m{\u001b[39;00mcols[\u001b[38;5;241m1\u001b[39m]\u001b[38;5;132;01m}\u001b[39;00m\u001b[38;5;124m\"\u001b[39m,\n\u001b[1;32m      6\u001b[0m         colname\u001b[38;5;241m=\u001b[39mcols[\u001b[38;5;241m1\u001b[39m],\n\u001b[1;32m      7\u001b[0m         ymax\u001b[38;5;241m=\u001b[39m\u001b[38;5;241m60\u001b[39m)\n",
      "\u001b[0;31mNameError\u001b[0m: name 'plotManhattan' is not defined"
     ]
    }
   ],
   "source": [
    "plotManhattan(\n",
    "        df2['gene'],\n",
    "        df2['pvalue'],\n",
    "        df2['chromosome'],\n",
    "        title=f\"Manhattan plot for {cols[1]}\",\n",
    "        colname=cols[1],\n",
    "        ymax=60)"
   ]
  },
  {
   "cell_type": "code",
   "execution_count": null,
   "id": "b3062fc8",
   "metadata": {
    "scrolled": false
   },
   "outputs": [],
   "source": [
    "bestpvalues = getBestPValues(df2[\"pvalue\"],60,40)[:5]\n",
    "for pv, idx in bestpvalues:\n",
    "    plotPhenoGeno2(idx,cols[1])"
   ]
  },
  {
   "cell_type": "markdown",
   "id": "0aa48eb2",
   "metadata": {},
   "source": [
    "### Les 5 meilleures SNP pour amylose content"
   ]
  },
  {
   "cell_type": "markdown",
   "id": "45f28993",
   "metadata": {},
   "source": [
    "### Les 5 meilleures SNP pour le seed number"
   ]
  },
  {
   "cell_type": "code",
   "execution_count": null,
   "id": "53b6e247",
   "metadata": {},
   "outputs": [],
   "source": [
    "print([i[1] for i in bestpvalues])"
   ]
  },
  {
   "cell_type": "markdown",
   "id": "898eb396",
   "metadata": {},
   "source": [
    "## Straighthead susceptability"
   ]
  },
  {
   "cell_type": "code",
   "execution_count": null,
   "id": "fbce815b",
   "metadata": {},
   "outputs": [],
   "source": [
    "df3 = pd.read_csv(f\"manhattan_{cols[2].replace('.','_')}.csv\")\n",
    "df3.head()"
   ]
  },
  {
   "cell_type": "code",
   "execution_count": null,
   "id": "73217ad9",
   "metadata": {},
   "outputs": [],
   "source": [
    "plotManhattan(\n",
    "        df3['gene'],\n",
    "        df3['pvalue'],\n",
    "        df3['chromosome'],\n",
    "        title=f\"Manhattan plot for {cols[2]}\",\n",
    "        colname=cols[2],\n",
    "        ymax=40)"
   ]
  },
  {
   "cell_type": "code",
   "execution_count": null,
   "id": "71b342e7",
   "metadata": {},
   "outputs": [],
   "source": [
    "bestpvalues = getBestPValues(df3[\"pvalue\"],35,25)[:5]\n",
    "for pv, idx in bestpvalues:\n",
    "    plotPhenoGeno2(idx,cols[2])"
   ]
  },
  {
   "cell_type": "markdown",
   "id": "50ce1087",
   "metadata": {},
   "source": [
    "### Les 5 meilleures SNP pour le seed number"
   ]
  },
  {
   "cell_type": "code",
   "execution_count": null,
   "id": "75bece06",
   "metadata": {},
   "outputs": [],
   "source": [
    "print([i[1] for i in bestpvalues])"
   ]
  }
 ],
 "metadata": {
  "kernelspec": {
   "display_name": "Python 3 (ipykernel)",
   "language": "python",
   "name": "python3"
  },
  "language_info": {
   "codemirror_mode": {
    "name": "ipython",
    "version": 3
   },
   "file_extension": ".py",
   "mimetype": "text/x-python",
   "name": "python",
   "nbconvert_exporter": "python",
   "pygments_lexer": "ipython3",
   "version": "3.10.6"
  }
 },
 "nbformat": 4,
 "nbformat_minor": 5
}
